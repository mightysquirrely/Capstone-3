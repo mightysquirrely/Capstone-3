{
 "cells": [
  {
   "cell_type": "markdown",
   "metadata": {},
   "source": [
    "The data set contains information on multiple facets of U.S. education data from state level sources.  Sourced from the U.S. Census Bureau and the National Center for Education Statistics (NCES).  \n",
    "1,918 unique values for states and yearly entries.  There are 25 columns of information.\n",
    "\n",
    "This projects is looking to see if academic achievement is significantly affected by state expenditures and revenues.\n",
    "\n",
    "Is academic achievement in a state connected to state expeditures and revenues?\n",
    "Is academic achievement affected in some way by the total number of students in the state?\n",
    "Is academic achievement connected to instruction expenditure or support services expenditure?\n",
    "Future questions -  If state revenues are increased and therefore increase school related expenditures, how will that impact student scores? \n",
    "https://www.kaggle.com/noriuk/us-education-datasets-unification-project"
   ]
  },
  {
   "cell_type": "code",
   "execution_count": 2,
   "metadata": {},
   "outputs": [],
   "source": [
    "#import necessary packages\n",
    "import numpy as np # linear algebra\n",
    "import pandas as pd # data processing, CSV file I/O (e.g. pd.read_csv)\n",
    "import seaborn as sns\n",
    "import matplotlib\n",
    "import matplotlib.pyplot as plt\n",
    "from scipy import stats\n",
    "from scipy.stats import norm\n",
    "from scipy.stats import t\n",
    "from numpy.random import seed\n",
    "\n",
    "from datetime import datetime\n",
    "from matplotlib.dates import WeekdayLocator\n",
    "from matplotlib.dates import MO, TU, WE, TH, FR, SA, SU #prep for investigating dates\n",
    "\n",
    "import pandas as pd\n",
    "from pandas.io.json import json_normalize \n"
   ]
  },
  {
   "cell_type": "markdown",
   "metadata": {},
   "source": [
    "Clean and Merge Data This set was fairly clean. It is crucial to include this step. There were some missing values to be aware of.\n",
    "\n",
    "Question: Can missing data be identified and can we see where there may be missing values? Identify included data\n"
   ]
  },
  {
   "cell_type": "code",
   "execution_count": 6,
   "metadata": {},
   "outputs": [
    {
     "name": "stdout",
     "output_type": "stream",
     "text": [
      "<class 'pandas.core.frame.DataFrame'>\n",
      "RangeIndex: 1918 entries, 0 to 1917\n",
      "Data columns (total 25 columns):\n",
      "PRIMARY_KEY                     1918 non-null object\n",
      "STATE                           1918 non-null object\n",
      "YEAR                            1918 non-null int64\n",
      "ENROLL                          1224 non-null float64\n",
      "TOTAL_REVENUE                   1275 non-null float64\n",
      "FEDERAL_REVENUE                 1275 non-null float64\n",
      "STATE_REVENUE                   1275 non-null float64\n",
      "LOCAL_REVENUE                   1275 non-null float64\n",
      "TOTAL_EXPENDITURE               1275 non-null float64\n",
      "INSTRUCTION_EXPENDITURE         1275 non-null float64\n",
      "SUPPORT_SERVICES_EXPENDITURE    1275 non-null float64\n",
      "OTHER_EXPENDITURE               1224 non-null float64\n",
      "CAPITAL_OUTLAY_EXPENDITURE      1275 non-null float64\n",
      "GRADES_PK_G                     1542 non-null float64\n",
      "GRADES_KG_G                     1632 non-null float64\n",
      "GRADES_4_G                      1632 non-null float64\n",
      "GRADES_8_G                      1632 non-null float64\n",
      "GRADES_12_G                     1632 non-null float64\n",
      "GRADES_1_8_G                    1020 non-null float64\n",
      "GRADES_9_12_G                   1071 non-null float64\n",
      "GRADES_ALL_G                    1632 non-null float64\n",
      "AVG_MATH_4_SCORE                535 non-null float64\n",
      "AVG_MATH_8_SCORE                531 non-null float64\n",
      "AVG_READING_4_SCORE             532 non-null float64\n",
      "AVG_READING_8_SCORE             497 non-null float64\n",
      "dtypes: float64(22), int64(1), object(2)\n",
      "memory usage: 374.7+ KB\n"
     ]
    }
   ],
   "source": [
    "data = pd.read_csv(\"/Users/Sandi/Desktop/Projects/Capstone_3/Data/states_all.csv\")\n",
    "data.info()\n",
    "#This was done to identify categories with missing information."
   ]
  },
  {
   "cell_type": "code",
   "execution_count": null,
   "metadata": {},
   "outputs": [],
   "source": []
  },
  {
   "cell_type": "code",
   "execution_count": null,
   "metadata": {},
   "outputs": [],
   "source": []
  },
  {
   "cell_type": "code",
   "execution_count": null,
   "metadata": {},
   "outputs": [],
   "source": []
  },
  {
   "cell_type": "code",
   "execution_count": null,
   "metadata": {},
   "outputs": [],
   "source": []
  },
  {
   "cell_type": "code",
   "execution_count": null,
   "metadata": {},
   "outputs": [],
   "source": []
  },
  {
   "cell_type": "code",
   "execution_count": null,
   "metadata": {},
   "outputs": [],
   "source": []
  },
  {
   "cell_type": "code",
   "execution_count": null,
   "metadata": {},
   "outputs": [],
   "source": []
  }
 ],
 "metadata": {
  "kernelspec": {
   "display_name": "Python 3",
   "language": "python",
   "name": "python3"
  },
  "language_info": {
   "codemirror_mode": {
    "name": "ipython",
    "version": 3
   },
   "file_extension": ".py",
   "mimetype": "text/x-python",
   "name": "python",
   "nbconvert_exporter": "python",
   "pygments_lexer": "ipython3",
   "version": "3.7.3"
  }
 },
 "nbformat": 4,
 "nbformat_minor": 2
}
